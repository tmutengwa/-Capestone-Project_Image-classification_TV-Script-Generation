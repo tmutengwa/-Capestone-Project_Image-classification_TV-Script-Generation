{
 "cells": [
  {
   "cell_type": "code",
   "execution_count": 1,
   "id": "a9c6aac0",
   "metadata": {},
   "outputs": [
    {
     "name": "stdout",
     "output_type": "stream",
     "text": [
      "/Users/tongaimutengwa/Projects/homework5\n"
     ]
    }
   ],
   "source": [
    "import os\n",
    "\n",
    "os.makedirs(\"/Users/tongaimutengwa/Projects/homework5\", exist_ok=True)\n",
    "home = \"/Users/tongaimutengwa/Projects/homework5\"\n",
    "os.chdir(home)\n",
    "!pwd"
   ]
  },
  {
   "cell_type": "code",
   "execution_count": 2,
   "id": "a675b09b",
   "metadata": {},
   "outputs": [
    {
     "name": "stdout",
     "output_type": "stream",
     "text": [
      "UV version: uv 0.9.6 (265224465 2025-10-29)\n"
     ]
    }
   ],
   "source": [
    "import subprocess\n",
    "\n",
    "try:\n",
    "    # Run the uv --version command and capture the output\n",
    "    result = subprocess.run(\n",
    "        ['uv', '--version'], \n",
    "        capture_output=True, \n",
    "        text=True, \n",
    "        check=True\n",
    "    )\n",
    "    # The version is usually the first line of the output\n",
    "    print(f\"UV version: {result.stdout.strip()}\")\n",
    "except FileNotFoundError:\n",
    "    print(\"Error: The 'uv' command was not found in your system's PATH.\")\n",
    "except subprocess.CalledProcessError as e:\n",
    "    print(f\"Error running uv: {e.stderr.strip()}\")"
   ]
  },
  {
   "cell_type": "code",
   "execution_count": 3,
   "id": "58d2880b",
   "metadata": {},
   "outputs": [],
   "source": [
    "#!curl -O https://files.pythonhosted.org/packages/py3/s/scikit_learn/scikit_learn-1.6.1-py3-none-any.whl"
   ]
  },
  {
   "cell_type": "code",
   "execution_count": 4,
   "id": "0d1b42b9",
   "metadata": {},
   "outputs": [
    {
     "name": "stdout",
     "output_type": "stream",
     "text": [
      "Dockerfile                          pipeline_v1.bin\n",
      "get-docker.sh                       requirements.txt\n",
      "homework5.ipynb                     scikit_learn-1.6.1-py3-none-any.whl\n",
      "homework5.py\n"
     ]
    }
   ],
   "source": [
    "!ls"
   ]
  },
  {
   "cell_type": "code",
   "execution_count": 5,
   "id": "bfb2815c",
   "metadata": {},
   "outputs": [
    {
     "name": "stdout",
     "output_type": "stream",
     "text": [
      "✅ SHA256 hash for pipeline_v1.bin:\n",
      "sha256:c85a57297c7b23f1afee8fce787d1a1a64633484ffb98e62fc8fb35406b891aa\n",
      "\n",
      "✅ SHA256 hash for requirements.txt:\n",
      "sha256:a836b1cd655cb8a41b8bf428d9ea2e41049926362e0a68f3338f22b95eaba23c\n",
      "\n",
      "✅ SHA256 hash for get-docker.sh:\n",
      "sha256:8f2eae8097b281cac4f4f7362b690c393016d62a960403f751f7d0fac238e964\n",
      "\n",
      "✅ SHA256 hash for Dockerfile:\n",
      "sha256:8d0aa8bd6ed6b12960015143f3116aa04ae6c2054c8730d72894e57fcfbd9aa2\n",
      "\n",
      "✅ SHA256 hash for scikit_learn-1.6.1-py3-none-any.whl:\n",
      "sha256:e3b0c44298fc1c149afbf4c8996fb92427ae41e4649b934ca495991b7852b855\n",
      "\n",
      "✅ SHA256 hash for homework5.ipynb:\n",
      "sha256:5146d169749954de244d52c133756df847e3735084b77fc23ec19567b7c7f038\n",
      "\n",
      "✅ SHA256 hash for homework5.py:\n",
      "sha256:1dd44dd85946b91df962c75ecd0d39546338d85a247a3a41e884aaade6267996\n",
      "\n"
     ]
    }
   ],
   "source": [
    "import hashlib\n",
    "\n",
    "# Define the file paths\n",
    "# Filter out all paths that are directories\n",
    "# Define the file paths\n",
    "file_path = os.listdir('.')\n",
    "# Filter out all paths that are directories\n",
    "actual_files = [path for path in file_path if os.path.isfile(path)]\n",
    "\n",
    "# Compute and print the SHA256 hash for each file\n",
    "for path in actual_files:\n",
    "    with open(path, \"rb\") as f:\n",
    "        file_bytes = f.read()\n",
    "        hash_value = hashlib.sha256(file_bytes).hexdigest()\n",
    "        \n",
    "        # FIX IS HERE: Use 'path' (the string filename), not 'file_bytes' (the binary content)\n",
    "        print(f\"✅ SHA256 hash for {path.split('/')[-1]}:\") \n",
    "        print(\"sha256:\" + hash_value + \"\\n\")"
   ]
  },
  {
   "cell_type": "code",
   "execution_count": 6,
   "id": "92c7eb3e",
   "metadata": {},
   "outputs": [],
   "source": [
    "#!wget https://github.com/DataTalksClub/machine-learning-zoomcamp/raw/refs/heads/master/cohorts/2025/05-deployment/pipeline_v1.bin"
   ]
  },
  {
   "cell_type": "code",
   "execution_count": 7,
   "id": "3357a550",
   "metadata": {},
   "outputs": [
    {
     "name": "stdout",
     "output_type": "stream",
     "text": [
      "total 104\n",
      "drwxr-xr-x@ 10 tongaimutengwa  staff    320 Oct 30 11:03 \u001b[34m.\u001b[m\u001b[m/\n",
      "drwxr-xr-x@ 19 tongaimutengwa  staff    608 Oct 30 12:31 \u001b[34m..\u001b[m\u001b[m/\n",
      "drwxr-xr-x@  8 tongaimutengwa  staff    256 Oct 30 09:30 \u001b[34m.venv\u001b[m\u001b[m/\n",
      "-rw-r--r--@  1 tongaimutengwa  staff    458 Oct 30 11:16 Dockerfile\n",
      "-rw-r--r--@  1 tongaimutengwa  staff  21013 Oct 30 10:25 get-docker.sh\n",
      "-rw-r--r--@  1 tongaimutengwa  staff   9673 Oct 30 10:52 homework5.ipynb\n",
      "-rw-r--r--@  1 tongaimutengwa  staff    568 Oct 30 10:56 homework5.py\n",
      "-rw-r--r--@  1 tongaimutengwa  staff   1300 Oct 30 10:14 pipeline_v1.bin\n",
      "-rw-r--r--@  1 tongaimutengwa  staff    406 Oct 30 12:02 requirements.txt\n",
      "-rw-r--r--@  1 tongaimutengwa  staff      0 Oct 30 09:33 scikit_learn-1.6.1-py3-none-any.whl\n"
     ]
    }
   ],
   "source": [
    "ls -la"
   ]
  },
  {
   "cell_type": "code",
   "execution_count": 8,
   "id": "351303bd",
   "metadata": {},
   "outputs": [],
   "source": [
    "import pickle\n",
    "\n",
    "with open(\"pipeline_v1.bin\", \"rb\") as f_in:\n",
    "    dv, model = pickle.load(f_in)"
   ]
  },
  {
   "cell_type": "code",
   "execution_count": 9,
   "id": "156cab3b",
   "metadata": {},
   "outputs": [
    {
     "name": "stdout",
     "output_type": "stream",
     "text": [
      "Prediction probability: 0.5336\n"
     ]
    }
   ],
   "source": [
    "record = {\n",
    "    \"lead_source\": \"paid_ads\",\n",
    "    \"number_of_courses_viewed\": 2,\n",
    "    \"annual_income\": 79276.0\n",
    "}\n",
    "\n",
    "X = dv.transform([record])\n",
    "\n",
    "y_pred = model.predict_proba(X)[:, 1]\n",
    "\n",
    "print(f\"Prediction probability: {y_pred[0]:.4f}\")"
   ]
  },
  {
   "cell_type": "code",
   "execution_count": 10,
   "id": "72412a6b",
   "metadata": {},
   "outputs": [],
   "source": [
    "from fastapi import FastAPI\n",
    "from pydantic import BaseModel\n",
    "import pickle\n",
    "\n",
    "# Load the model and vectorizer\n",
    "with open(\"pipeline_v1.bin\", \"rb\") as f_in:\n",
    "    dv, model = pickle.load(f_in)\n",
    "\n",
    "# Define the input data model\n",
    "class Client(BaseModel):\n",
    "    lead_source: str\n",
    "    number_of_courses_viewed: int\n",
    "    annual_income: float\n",
    "\n",
    "# Create the FastAPI app\n",
    "app = FastAPI()\n",
    "\n",
    "@app.post(\"/predict\")\n",
    "def predict(client: Client):\n",
    "    record = client.model_dump()\n",
    "    X = dv.transform([record])\n",
    "    y_pred = model.predict_proba(X)[:, 1]\n",
    "    return {\"prediction_probability\": y_pred[0]}"
   ]
  },
  {
   "cell_type": "markdown",
   "id": "4ee314ea",
   "metadata": {},
   "source": [
    "# Run fastapi server Subtask: Start the FastAPI application using uvicorn in a way that it runs in the background or in a separate thread"
   ]
  },
  {
   "cell_type": "code",
   "execution_count": null,
   "id": "2e4a3eac",
   "metadata": {},
   "outputs": [],
   "source": [
    "import threading\n",
    "import time\n",
    "import uvicorn\n",
    "\n",
    "def run_server():\n",
    "    \"\"\"Runs the uvicorn server.\"\"\"\n",
    "    uvicorn.run(app, host=\"0.0.0.0\", port=8000)\n",
    "\n",
    "# Create and start the server thread\n",
    "server_thread = threading.Thread(target=run_server)\n",
    "server_thread.start()\n",
    "\n",
    "# Allow the server to initialize\n",
    "time.sleep(1)\n",
    "\n",
    "print(\"FastAPI server is running in a separate thread.\")"
   ]
  },
  {
   "cell_type": "code",
   "execution_count": 11,
   "id": "c966271e",
   "metadata": {},
   "outputs": [
    {
     "name": "stdout",
     "output_type": "stream",
     "text": [
      "{'prediction_probability': 0.5340417283801275}\n"
     ]
    }
   ],
   "source": [
    "import requests\n",
    "\n",
    "url = \"http://localhost:8000/predict\"  # FastAPI app is running on localhost:8000\n",
    "client = {\n",
    "    \"lead_source\": \"organic_search\",\n",
    "    \"number_of_courses_viewed\": 4,\n",
    "    \"annual_income\": 80304.0\n",
    "}\n",
    "\n",
    "response = requests.post(url, json=client)\n",
    "print(response.json())"
   ]
  },
  {
   "cell_type": "code",
   "execution_count": 12,
   "id": "7a6c01e2",
   "metadata": {},
   "outputs": [
    {
     "name": "stdout",
     "output_type": "stream",
     "text": [
      "REPOSITORY                 TAG       IMAGE ID       CREATED      SIZE\n",
      "agrigorev/zoomcamp-model   2025      14d79fde0bbf   8 days ago   181MB\n"
     ]
    }
   ],
   "source": [
    "!docker images agrigorev/zoomcamp-model:2025"
   ]
  },
  {
   "cell_type": "code",
   "execution_count": 13,
   "id": "db5a652d",
   "metadata": {},
   "outputs": [
    {
     "name": "stdout",
     "output_type": "stream",
     "text": [
      "The probability that this lead will convert is: 0.5340417283801275\n"
     ]
    }
   ],
   "source": [
    "import requests\n",
    "\n",
    "# 1. Define the URL for your local running container\n",
    "url = \"http://127.0.0.1:8000/predict\"\n",
    "\n",
    "# 2. Define the client data to be scored\n",
    "client = {\n",
    "    \"lead_source\": \"organic_search\",\n",
    "    \"number_of_courses_viewed\": 4,\n",
    "    \"annual_income\": 80304.0\n",
    "}\n",
    "\n",
    "# 3. Send the POST request\n",
    "response = requests.post(url, json=client)\n",
    "data = response.json()\n",
    "\n",
    "# 4. Extract the probability using the CORRECT key\n",
    "probability = data['prediction_probability']\n",
    "\n",
    "print(f\"The probability that this lead will convert is: {probability}\")"
   ]
  }
 ],
 "metadata": {
  "kernelspec": {
   "display_name": ".venv3126",
   "language": "python",
   "name": "python3"
  },
  "language_info": {
   "codemirror_mode": {
    "name": "ipython",
    "version": 3
   },
   "file_extension": ".py",
   "mimetype": "text/x-python",
   "name": "python",
   "nbconvert_exporter": "python",
   "pygments_lexer": "ipython3",
   "version": "3.12.6"
  }
 },
 "nbformat": 4,
 "nbformat_minor": 5
}
