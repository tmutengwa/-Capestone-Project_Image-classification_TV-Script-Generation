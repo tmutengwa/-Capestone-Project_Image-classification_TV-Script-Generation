{
 "cells": [
  {
   "cell_type": "code",
   "execution_count": 6,
   "id": "a9c6aac0",
   "metadata": {},
   "outputs": [
    {
     "name": "stdout",
     "output_type": "stream",
     "text": [
      "/Users/tongaimutengwa/Projects/homework5\n"
     ]
    }
   ],
   "source": [
    "import os\n",
    "\n",
    "os.makedirs(\"/Users/tongaimutengwa/Projects/homework5\", exist_ok=True)\n",
    "home = \"/Users/tongaimutengwa/Projects/homework5\"\n",
    "os.chdir(home)\n",
    "!pwd"
   ]
  },
  {
   "cell_type": "code",
   "execution_count": 7,
   "id": "58d2880b",
   "metadata": {},
   "outputs": [],
   "source": [
    "#!curl -O https://files.pythonhosted.org/packages/py3/s/scikit_learn/scikit_learn-1.6.1-py3-none-any.whl"
   ]
  },
  {
   "cell_type": "code",
   "execution_count": 8,
   "id": "0d1b42b9",
   "metadata": {},
   "outputs": [
    {
     "name": "stdout",
     "output_type": "stream",
     "text": [
      "scikit_learn-1.6.1-py3-none-any.whl\n"
     ]
    }
   ],
   "source": [
    "!ls"
   ]
  },
  {
   "cell_type": "code",
   "execution_count": 14,
   "id": "bfb2815c",
   "metadata": {},
   "outputs": [
    {
     "name": "stdout",
     "output_type": "stream",
     "text": [
      "✅ SHA256 hash for .venv:\n",
      "sha256:e3b0c44298fc1c149afbf4c8996fb92427ae41e4649b934ca495991b7852b855\n",
      "\n"
     ]
    }
   ],
   "source": [
    "import hashlib\n",
    "\n",
    "# Define the file paths\n",
    "# Filter out all paths that are directories\n",
    "actual_files = [path for path in file_path if os.path.isfile(path)]\n",
    "\n",
    "# Compute and print the SHA256 hash for each file\n",
    "for path in actual_files:\n",
    "    with open(path, \"rb\") as f:\n",
    "        file_bytes = f.read()\n",
    "        hash_value = hashlib.sha256(file_bytes).hexdigest()\n",
    "        print(f\"✅ SHA256 hash for {file.split('/')[-1]}:\")\n",
    "        print(\"sha256:\" + hash_value + \"\\n\")"
   ]
  },
  {
   "cell_type": "code",
   "execution_count": null,
   "id": "92c7eb3e",
   "metadata": {},
   "outputs": [
    {
     "name": "stdout",
     "output_type": "stream",
     "text": [
      "--2025-10-30 10:12:31--  https://github.com/DataTalksClub/machine-learning-zoomcamp/raw/refs/heads/master/cohorts/2025/05-deployment/pipeline_v1.bin\n",
      "Resolving github.com (github.com)... 4.237.22.38\n",
      "Connecting to github.com (github.com)|4.237.22.38|:443... connected.\n",
      "HTTP request sent, awaiting response... 302 Found\n",
      "Location: https://raw.githubusercontent.com/DataTalksClub/machine-learning-zoomcamp/refs/heads/master/cohorts/2025/05-deployment/pipeline_v1.bin [following]\n",
      "--2025-10-30 10:12:32--  https://raw.githubusercontent.com/DataTalksClub/machine-learning-zoomcamp/refs/heads/master/cohorts/2025/05-deployment/pipeline_v1.bin\n",
      "Resolving raw.githubusercontent.com (raw.githubusercontent.com)... 2606:50c0:8001::154, 2606:50c0:8002::154, 2606:50c0:8003::154, ...\n",
      "Connecting to raw.githubusercontent.com (raw.githubusercontent.com)|2606:50c0:8001::154|:443... connected.\n",
      "HTTP request sent, awaiting response... 200 OK\n",
      "Length: 1300 (1.3K) [application/octet-stream]\n",
      "Saving to: ‘pipeline_v1.bin.2’\n",
      "\n",
      "pipeline_v1.bin.2   100%[===================>]   1.27K  --.-KB/s    in 0s      \n",
      "\n",
      "2025-10-30 10:12:32 (8.67 MB/s) - ‘pipeline_v1.bin.2’ saved [1300/1300]\n",
      "\n"
     ]
    }
   ],
   "source": [
    "#!wget https://github.com/DataTalksClub/machine-learning-zoomcamp/raw/refs/heads/master/cohorts/2025/05-deployment/pipeline_v1.bin"
   ]
  },
  {
   "cell_type": "code",
   "execution_count": 26,
   "id": "3357a550",
   "metadata": {},
   "outputs": [
    {
     "name": "stdout",
     "output_type": "stream",
     "text": [
      "total 8\n",
      "drwxr-xr-x@  5 tongaimutengwa  staff   160 Oct 30 10:14 \u001b[34m.\u001b[m\u001b[m/\n",
      "drwxr-xr-x@ 18 tongaimutengwa  staff   576 Oct 30 09:04 \u001b[34m..\u001b[m\u001b[m/\n",
      "drwxr-xr-x@  8 tongaimutengwa  staff   256 Oct 30 09:30 \u001b[34m.venv\u001b[m\u001b[m/\n",
      "-rw-r--r--@  1 tongaimutengwa  staff  1300 Oct 30 10:14 pipeline_v1.bin\n",
      "-rw-r--r--@  1 tongaimutengwa  staff     0 Oct 30 09:33 scikit_learn-1.6.1-py3-none-any.whl\n"
     ]
    }
   ],
   "source": [
    "ls -la"
   ]
  },
  {
   "cell_type": "code",
   "execution_count": 27,
   "id": "351303bd",
   "metadata": {},
   "outputs": [],
   "source": [
    "import pickle\n",
    "\n",
    "with open(\"pipeline_v1.bin\", \"rb\") as f_in:\n",
    "    dv, model = pickle.load(f_in)"
   ]
  },
  {
   "cell_type": "code",
   "execution_count": 28,
   "id": "156cab3b",
   "metadata": {},
   "outputs": [
    {
     "name": "stdout",
     "output_type": "stream",
     "text": [
      "Prediction probability: 0.5336\n"
     ]
    }
   ],
   "source": [
    "record = {\n",
    "    \"lead_source\": \"paid_ads\",\n",
    "    \"number_of_courses_viewed\": 2,\n",
    "    \"annual_income\": 79276.0\n",
    "}\n",
    "\n",
    "X = dv.transform([record])\n",
    "\n",
    "y_pred = model.predict_proba(X)[:, 1]\n",
    "\n",
    "print(f\"Prediction probability: {y_pred[0]:.4f}\")"
   ]
  },
  {
   "cell_type": "code",
   "execution_count": 30,
   "id": "72412a6b",
   "metadata": {},
   "outputs": [],
   "source": [
    "from fastapi import FastAPI\n",
    "from pydantic import BaseModel\n",
    "import pickle\n",
    "\n",
    "# Load the model and vectorizer\n",
    "with open(\"pipeline_v1.bin\", \"rb\") as f_in:\n",
    "    dv, model = pickle.load(f_in)\n",
    "\n",
    "# Define the input data model\n",
    "class Client(BaseModel):\n",
    "    lead_source: str\n",
    "    number_of_courses_viewed: int\n",
    "    annual_income: float\n",
    "\n",
    "# Create the FastAPI app\n",
    "app = FastAPI()\n",
    "\n",
    "@app.post(\"/predict\")\n",
    "def predict(client: Client):\n",
    "    record = client.model_dump()\n",
    "    X = dv.transform([record])\n",
    "    y_pred = model.predict_proba(X)[:, 1]\n",
    "    return {\"prediction_probability\": y_pred[0]}"
   ]
  },
  {
   "cell_type": "markdown",
   "id": "4ee314ea",
   "metadata": {},
   "source": [
    "# Run fastapi server Subtask: Start the FastAPI application using uvicorn in a way that it runs in the background or in a separate thread"
   ]
  },
  {
   "cell_type": "code",
   "execution_count": 31,
   "id": "2e4a3eac",
   "metadata": {},
   "outputs": [
    {
     "name": "stderr",
     "output_type": "stream",
     "text": [
      "INFO:     Started server process [45469]\n",
      "INFO:     Waiting for application startup.\n",
      "INFO:     Application startup complete.\n",
      "INFO:     Uvicorn running on http://0.0.0.0:8000 (Press CTRL+C to quit)\n"
     ]
    },
    {
     "name": "stdout",
     "output_type": "stream",
     "text": [
      "FastAPI server is running in a separate thread.\n"
     ]
    },
    {
     "name": "stdout",
     "output_type": "stream",
     "text": [
      "INFO:     127.0.0.1:63388 - \"POST /predict HTTP/1.1\" 200 OK\n"
     ]
    }
   ],
   "source": [
    "import threading\n",
    "import time\n",
    "import uvicorn\n",
    "\n",
    "def run_server():\n",
    "    \"\"\"Runs the uvicorn server.\"\"\"\n",
    "    uvicorn.run(app, host=\"0.0.0.0\", port=8000)\n",
    "\n",
    "# Create and start the server thread\n",
    "server_thread = threading.Thread(target=run_server)\n",
    "server_thread.start()\n",
    "\n",
    "# Allow the server to initialize\n",
    "time.sleep(1)\n",
    "\n",
    "print(\"FastAPI server is running in a separate thread.\")"
   ]
  },
  {
   "cell_type": "code",
   "execution_count": 32,
   "id": "c966271e",
   "metadata": {},
   "outputs": [
    {
     "name": "stdout",
     "output_type": "stream",
     "text": [
      "{'prediction_probability': 0.5340417283801275}\n"
     ]
    }
   ],
   "source": [
    "import requests\n",
    "\n",
    "url = \"http://localhost:8000/predict\"  # FastAPI app is running on localhost:8000\n",
    "client = {\n",
    "    \"lead_source\": \"organic_search\",\n",
    "    \"number_of_courses_viewed\": 4,\n",
    "    \"annual_income\": 80304.0\n",
    "}\n",
    "\n",
    "response = requests.post(url, json=client)\n",
    "print(response.json())"
   ]
  },
  {
   "cell_type": "code",
   "execution_count": 33,
   "id": "7a6c01e2",
   "metadata": {},
   "outputs": [
    {
     "name": "stdout",
     "output_type": "stream",
     "text": [
      "REPOSITORY                 TAG       IMAGE ID       CREATED      SIZE\n",
      "agrigorev/zoomcamp-model   2025      14d79fde0bbf   8 days ago   181MB\n"
     ]
    }
   ],
   "source": [
    "!docker images agrigorev/zoomcamp-model:2025"
   ]
  },
  {
   "cell_type": "code",
   "execution_count": null,
   "id": "db5a652d",
   "metadata": {},
   "outputs": [],
   "source": []
  },
  {
   "cell_type": "code",
   "execution_count": null,
   "id": "26fa56a0",
   "metadata": {},
   "outputs": [],
   "source": []
  },
  {
   "cell_type": "code",
   "execution_count": null,
   "id": "9683761e",
   "metadata": {},
   "outputs": [],
   "source": []
  }
 ],
 "metadata": {
  "kernelspec": {
   "display_name": ".venv3126",
   "language": "python",
   "name": "python3"
  },
  "language_info": {
   "codemirror_mode": {
    "name": "ipython",
    "version": 3
   },
   "file_extension": ".py",
   "mimetype": "text/x-python",
   "name": "python",
   "nbconvert_exporter": "python",
   "pygments_lexer": "ipython3",
   "version": "3.12.6"
  }
 },
 "nbformat": 4,
 "nbformat_minor": 5
}
