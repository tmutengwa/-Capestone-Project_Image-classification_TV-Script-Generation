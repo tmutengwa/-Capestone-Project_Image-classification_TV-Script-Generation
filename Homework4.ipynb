{
  "nbformat": 4,
  "nbformat_minor": 0,
  "metadata": {
    "colab": {
      "provenance": [],
      "authorship_tag": "ABX9TyMiF2CViB0hncQtYO3jgUf2",
      "include_colab_link": true
    },
    "kernelspec": {
      "name": "python3",
      "display_name": "Python 3"
    },
    "language_info": {
      "name": "python"
    }
  },
  "cells": [
    {
      "cell_type": "markdown",
      "metadata": {
        "id": "view-in-github",
        "colab_type": "text"
      },
      "source": [
        "<a href=\"https://colab.research.google.com/github/tmutengwa/-Capestone-Project_Image-classification_TV-Script-Generation/blob/master/Homework4.ipynb\" target=\"_parent\"><img src=\"https://colab.research.google.com/assets/colab-badge.svg\" alt=\"Open In Colab\"/></a>"
      ]
    },
    {
      "cell_type": "code",
      "execution_count": null,
      "metadata": {
        "colab": {
          "base_uri": "https://localhost:8080/"
        },
        "id": "oVlmOScprSrW",
        "outputId": "96ecfa0e-2ff7-48f0-eb07-62db38215ea1"
      },
      "outputs": [
        {
          "output_type": "stream",
          "name": "stdout",
          "text": [
            "--2025-10-21 12:11:26--  https://raw.githubusercontent.com/alexeygrigorev/datasets/master/course_lead_scoring.csv\n",
            "Resolving raw.githubusercontent.com (raw.githubusercontent.com)... 185.199.109.133, 185.199.111.133, 185.199.108.133, ...\n",
            "Connecting to raw.githubusercontent.com (raw.githubusercontent.com)|185.199.109.133|:443... connected.\n",
            "HTTP request sent, awaiting response... 200 OK\n",
            "Length: 80876 (79K) [text/plain]\n",
            "Saving to: ‘course_lead_scoring.csv’\n",
            "\n",
            "\rcourse_lead_scoring   0%[                    ]       0  --.-KB/s               \rcourse_lead_scoring 100%[===================>]  78.98K  --.-KB/s    in 0.009s  \n",
            "\n",
            "2025-10-21 12:11:26 (8.39 MB/s) - ‘course_lead_scoring.csv’ saved [80876/80876]\n",
            "\n"
          ]
        }
      ],
      "source": [
        "!wget https://raw.githubusercontent.com/alexeygrigorev/datasets/master/course_lead_scoring.csv"
      ]
    },
    {
      "cell_type": "code",
      "source": [
        "import pandas as pd\n",
        "from sklearn.model_selection import train_test_split\n",
        "\n",
        "# Load the dataset\n",
        "df = pd.read_csv('course_lead_scoring.csv')\n",
        "\n",
        "# Check for missing values\n",
        "print(\"Missing values before handling:\")\n",
        "print(df.isnull().sum())\n",
        "\n",
        "# Handle missing values\n",
        "for col in df.columns:\n",
        "    if df[col].dtype == 'object':  # Categorical features\n",
        "        df[col] = df[col].fillna('NA')\n",
        "    else:  # Numerical features\n",
        "        df[col] = df[col].fillna(0.0)\n",
        "\n",
        "print(\"\\nMissing values after handling:\")\n",
        "print(df.isnull().sum())\n",
        "\n",
        "# Split the data\n",
        "df_full_train, df_test = train_test_split(df, test_size=0.2, random_state=1)\n",
        "df_train, df_val = train_test_split(df_full_train, test_size=0.25, random_state=1) # 0.25 * 0.8 = 0.2\n",
        "\n",
        "print(f\"\\nTraining set size: {len(df_train)}\")\n",
        "print(f\"Validation set size: {len(df_val)}\")\n",
        "print(f\"Test set size: {len(df_test)}\")"
      ],
      "metadata": {
        "colab": {
          "base_uri": "https://localhost:8080/"
        },
        "id": "Ng0k6BDyrrXG",
        "outputId": "6d617263-698d-4c8c-af78-37404d0c862f"
      },
      "execution_count": null,
      "outputs": [
        {
          "output_type": "stream",
          "name": "stdout",
          "text": [
            "Missing values before handling:\n",
            "lead_source                 128\n",
            "industry                    134\n",
            "number_of_courses_viewed      0\n",
            "annual_income               181\n",
            "employment_status           100\n",
            "location                     63\n",
            "interaction_count             0\n",
            "lead_score                    0\n",
            "converted                     0\n",
            "dtype: int64\n",
            "\n",
            "Missing values after handling:\n",
            "lead_source                 0\n",
            "industry                    0\n",
            "number_of_courses_viewed    0\n",
            "annual_income               0\n",
            "employment_status           0\n",
            "location                    0\n",
            "interaction_count           0\n",
            "lead_score                  0\n",
            "converted                   0\n",
            "dtype: int64\n",
            "\n",
            "Training set size: 876\n",
            "Validation set size: 293\n",
            "Test set size: 293\n"
          ]
        }
      ]
    },
    {
      "cell_type": "code",
      "source": [
        "from sklearn.metrics import roc_auc_score\n",
        "\n",
        "numerical = ['lead_score', 'number_of_courses_viewed', 'interaction_count', 'annual_income']\n",
        "target = 'converted'\n",
        "\n",
        "auc_scores = {}\n",
        "\n",
        "for col in numerical:\n",
        "    auc = roc_auc_score(df_train[target], df_train[col])\n",
        "    if auc < 0.5:\n",
        "        auc = roc_auc_score(df_train[target], -df_train[col])\n",
        "    auc_scores[col] = auc\n",
        "\n",
        "print(\"AUC scores for numerical variables:\")\n",
        "for col, auc in auc_scores.items():\n",
        "    print(f\"{col}: {auc:.4f}\")\n",
        "\n",
        "highest_auc_feature = max(auc_scores, key=auc_scores.get)\n",
        "print(f\"\\nNumerical variable with the highest AUC: {highest_auc_feature}\")"
      ],
      "metadata": {
        "id": "cU7mz9z1rsQ4",
        "colab": {
          "base_uri": "https://localhost:8080/"
        },
        "outputId": "421276e0-e9c8-49f4-84fa-55df86349146"
      },
      "execution_count": null,
      "outputs": [
        {
          "output_type": "stream",
          "name": "stdout",
          "text": [
            "AUC scores for numerical variables:\n",
            "lead_score: 0.6145\n",
            "number_of_courses_viewed: 0.7636\n",
            "interaction_count: 0.7383\n",
            "annual_income: 0.5520\n",
            "\n",
            "Numerical variable with the highest AUC: number_of_courses_viewed\n"
          ]
        }
      ]
    },
    {
      "cell_type": "code",
      "source": [
        "from sklearn.feature_extraction import DictVectorizer\n",
        "from sklearn.linear_model import LogisticRegression\n",
        "from sklearn.metrics import roc_auc_score\n",
        "\n",
        "categorical = ['lead_source', 'industry', 'employment_status', 'location']\n",
        "\n",
        "# Prepare data for DictVectorizer\n",
        "train_dict = df_train[categorical + numerical].to_dict(orient='records')\n",
        "val_dict = df_val[categorical + numerical].to_dict(orient='records')\n",
        "\n",
        "# Apply DictVectorizer\n",
        "dv = DictVectorizer(sparse=False)\n",
        "X_train = dv.fit_transform(train_dict)\n",
        "X_val = dv.transform(val_dict)\n",
        "\n",
        "# Train Logistic Regression model\n",
        "model = LogisticRegression(solver='liblinear', C=1.0, max_iter=1000)\n",
        "model.fit(X_train, df_train[target])\n",
        "\n",
        "# Predict on validation set\n",
        "y_pred_val = model.predict_proba(X_val)[:, 1]\n",
        "\n",
        "# Calculate AUC on validation set\n",
        "auc_val = roc_auc_score(df_val[target], y_pred_val)\n",
        "\n",
        "print(f\"AUC on validation dataset: {auc_val:.3f}\")"
      ],
      "metadata": {
        "id": "8Ub95WnTrtBS",
        "colab": {
          "base_uri": "https://localhost:8080/"
        },
        "outputId": "2c84da14-8d84-4b47-b1db-1e3c2f715d87"
      },
      "execution_count": null,
      "outputs": [
        {
          "output_type": "stream",
          "name": "stdout",
          "text": [
            "AUC on validation dataset: 0.817\n"
          ]
        }
      ]
    },
    {
      "cell_type": "code",
      "source": [
        "# Calculate precision and recall for different thresholds\n",
        "thresholds = np.arange(0.0, 1.01, 0.01)\n",
        "precisions = []\n",
        "recalls = []\n",
        "\n",
        "for threshold in thresholds:\n",
        "    y_pred_binary = (y_pred_val >= threshold).astype(int)\n",
        "\n",
        "    # Calculate precision and recall\n",
        "    tp = np.sum((y_pred_binary == 1) & (df_val[target] == 1))\n",
        "    fp = np.sum((y_pred_binary == 1) & (df_val[target] == 0))\n",
        "    fn = np.sum((y_pred_binary == 0) & (df_val[target] == 1))\n",
        "\n",
        "    precision = tp / (tp + fp) if (tp + fp) > 0 else 0\n",
        "    recall = tp / (tp + fn) if (tp + fn) > 0 else 0\n",
        "\n",
        "    precisions.append(precision)\n",
        "    recalls.append(recall)\n",
        "\n",
        "# Plot precision and recall curves\n",
        "plt.figure(figsize=(10, 6))\n",
        "plt.plot(thresholds, precisions, label='Precision', linewidth=2)\n",
        "plt.plot(thresholds, recalls, label='Recall', linewidth=2)\n",
        "plt.xlabel('Threshold')\n",
        "plt.ylabel('Score')\n",
        "plt.title('Precision and Recall vs Threshold')\n",
        "plt.legend()\n",
        "plt.grid(True, alpha=0.3)\n",
        "plt.show()\n",
        "\n",
        "# Find intersection points\n",
        "differences = np.array(precisions) - np.array(recalls)\n",
        "intersection_thresholds = []\n",
        "for i in range(1, len(thresholds)):\n",
        "    # Check for sign change or near-zero difference\n",
        "    if (differences[i-1] * differences[i] <= 0) or (abs(differences[i]) < 0.001):\n",
        "        intersection_thresholds.append(thresholds[i])\n",
        "\n",
        "print(f\"\\nPotential intersection thresholds:\")\n",
        "for threshold in intersection_thresholds:\n",
        "    print(f\"{threshold:.3f}\")"
      ],
      "metadata": {
        "colab": {
          "base_uri": "https://localhost:8080/",
          "height": 653
        },
        "id": "enZ8KMz2xF_K",
        "outputId": "effd41d7-b6af-4820-fbfd-8d7c2dcad394"
      },
      "execution_count": null,
      "outputs": [
        {
          "output_type": "display_data",
          "data": {
            "text/plain": [
              "<Figure size 1000x600 with 1 Axes>"
            ],
            "image/png": "[encoded data removed]"
          },
          "metadata": {}
        },
        {
          "output_type": "stream",
          "name": "stdout",
          "text": [
            "\n",
            "Precision and Recall curves intersect at threshold: 0.980\n",
            "Precision at intersection: 0.000\n",
            "Recall at intersection: 0.000\n"
          ]
        }
      ]
    },
    {
      "cell_type": "code",
      "source": [
        "# Calculate F1 score for all thresholds\n",
        "f1_scores = []\n",
        "for i in range(len(thresholds)):\n",
        "    p = precisions[i]\n",
        "    r = recalls[i]\n",
        "    f1 = 2 * (p * r) / (p + r) if (p + r) > 0 else 0\n",
        "    f1_scores.append(f1)\n",
        "\n",
        "# Find the threshold with the maximal F1 score\n",
        "max_f1 = max(f1_scores)\n",
        "max_f1_threshold = thresholds[f1_scores.index(max_f1)]\n",
        "\n",
        "print(f\"Maximal F1 score: {max_f1:.3f}\")\n",
        "print(f\"Threshold at which F1 is maximal: {max_f1_threshold:.3f}\")"
      ],
      "metadata": {
        "colab": {
          "base_uri": "https://localhost:8080/"
        },
        "id": "wvD0Tf4H2B8O",
        "outputId": "6981776a-5b45-4433-fd52-fd7551d2599b"
      },
      "execution_count": null,
      "outputs": [
        {
          "output_type": "stream",
          "name": "stdout",
          "text": [
            "Maximal F1 score: 0.812\n",
            "Threshold at which F1 is maximal: 0.570\n"
          ]
        }
      ]
    },
    {
      "cell_type": "code",
      "source": [
        "from sklearn.model_selection import KFold\n",
        "import numpy as np # Import numpy\n",
        "\n",
        "scores = []\n",
        "\n",
        "kfold = KFold(n_splits=5, shuffle=True, random_state=1)\n",
        "\n",
        "for train_idx, val_idx in kfold.split(df_full_train):\n",
        "    df_train = df_full_train.iloc[train_idx]\n",
        "    df_val = df_full_train.iloc[val_idx]\n",
        "\n",
        "    y_train = df_train[target]\n",
        "    y_val = df_val[target]\n",
        "\n",
        "    train_dict = df_train[categorical + numerical].to_dict(orient='records')\n",
        "    val_dict = df_val[categorical + numerical].to_dict(orient='records')\n",
        "\n",
        "    dv = DictVectorizer(sparse=False)\n",
        "    X_train = dv.fit_transform(train_dict)\n",
        "    X_val = dv.transform(val_dict)\n",
        "\n",
        "    model = LogisticRegression(solver='liblinear', C=1.0, max_iter=1000)\n",
        "    model.fit(X_train, y_train)\n",
        "\n",
        "    y_pred_val = model.predict_proba(X_val)[:, 1]\n",
        "    auc = roc_auc_score(y_val, y_pred_val)\n",
        "    scores.append(auc)\n",
        "\n",
        "print(\"AUC scores for each fold:\")\n",
        "for i, score in enumerate(scores):\n",
        "    print(f\"Fold {i+1}: {score:.3f}\")\n",
        "\n",
        "print(f\"\\nMean AUC score: {np.mean(scores):.3f}\")\n",
        "print(f\"Standard deviation of AUC scores: {np.std(scores):.4f}\")"
      ],
      "metadata": {
        "colab": {
          "base_uri": "https://localhost:8080/"
        },
        "id": "NeVJLB_A2tl-",
        "outputId": "b314e6cb-5379-4a3c-e14a-2774cd27d89c"
      },
      "execution_count": 11,
      "outputs": [
        {
          "output_type": "stream",
          "name": "stdout",
          "text": [
            "AUC scores for each fold:\n",
            "Fold 1: 0.806\n",
            "Fold 2: 0.871\n",
            "Fold 3: 0.775\n",
            "Fold 4: 0.802\n",
            "Fold 5: 0.856\n",
            "\n",
            "Mean AUC score: 0.822\n",
            "Standard deviation of AUC scores: 0.0358\n"
          ]
        }
      ]
    },
    {
      "cell_type": "code",
      "source": [
        "from sklearn.model_selection import KFold\n",
        "from sklearn.metrics import roc_auc_score\n",
        "from sklearn.feature_extraction import DictVectorizer\n",
        "from sklearn.linear_model import LogisticRegression\n",
        "import numpy as np\n",
        "\n",
        "C_values = [0.000001, 0.001, 1]\n",
        "kfold = KFold(n_splits=5, shuffle=True, random_state=1)\n",
        "\n",
        "results = {}\n",
        "\n",
        "for C in C_values:\n",
        "    scores = []\n",
        "    for train_idx, val_idx in kfold.split(df_full_train):\n",
        "        df_train = df_full_train.iloc[train_idx]\n",
        "        df_val = df_full_train.iloc[val_idx]\n",
        "\n",
        "        y_train = df_train[target]\n",
        "        y_val = df_val[target]\n",
        "\n",
        "        train_dict = df_train[categorical + numerical].to_dict(orient='records')\n",
        "        val_dict = df_val[categorical + numerical].to_dict(orient='records')\n",
        "\n",
        "        dv = DictVectorizer(sparse=False)\n",
        "        X_train = dv.fit_transform(train_dict)\n",
        "        X_val = dv.transform(val_dict)\n",
        "\n",
        "        model = LogisticRegression(solver='liblinear', C=C, max_iter=1000)\n",
        "        model.fit(X_train, y_train)\n",
        "\n",
        "        y_pred_val = model.predict_proba(X_val)[:, 1]\n",
        "        auc = roc_auc_score(y_val, y_pred_val)\n",
        "        scores.append(auc)\n",
        "\n",
        "    mean_score = np.mean(scores)\n",
        "    std_score = np.std(scores)\n",
        "    results[C] = {'mean_auc': mean_score, 'std_auc': std_score}\n",
        "\n",
        "print(\"Hyperparameter tuning results (AUC):\")\n",
        "for C, metrics in results.items():\n",
        "    print(f\"C = {C}: Mean AUC = {metrics['mean_auc']:.3f}, Std AUC = {metrics['std_auc']:.3f}\")\n",
        "\n",
        "# Find the best C\n",
        "best_C = None\n",
        "best_mean_auc = -1\n",
        "best_std_auc = float('inf')\n",
        "\n",
        "for C, metrics in results.items():\n",
        "    if metrics['mean_auc'] > best_mean_auc:\n",
        "        best_mean_auc = metrics['mean_auc']\n",
        "        best_std_auc = metrics['std_auc']\n",
        "        best_C = C\n",
        "    elif metrics['mean_auc'] == best_mean_auc:\n",
        "        if metrics['std_auc'] < best_std_auc:\n",
        "            best_std_auc = metrics['std_auc']\n",
        "            best_C = C\n",
        "        elif metrics['std_auc'] == best_std_auc:\n",
        "            if C < best_C:\n",
        "                best_C = C\n",
        "\n",
        "print(f\"\\nBest C value: {best_C}\")"
      ],
      "metadata": {
        "colab": {
          "base_uri": "https://localhost:8080/"
        },
        "id": "ljbMIkeV4fzw",
        "outputId": "144e1d06-bd8f-49ab-d73e-ec621b7a7781"
      },
      "execution_count": 12,
      "outputs": [
        {
          "output_type": "stream",
          "name": "stdout",
          "text": [
            "Hyperparameter tuning results (AUC):\n",
            "C = 1e-06: Mean AUC = 0.560, Std AUC = 0.024\n",
            "C = 0.001: Mean AUC = 0.867, Std AUC = 0.029\n",
            "C = 1: Mean AUC = 0.822, Std AUC = 0.036\n",
            "\n",
            "Best C value: 0.001\n"
          ]
        }
      ]
    }
  ]
}